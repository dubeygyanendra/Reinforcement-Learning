{
  "nbformat": 4,
  "nbformat_minor": 0,
  "metadata": {
    "colab": {
      "name": "frozen_lake.ipynb",
      "provenance": []
    },
    "kernelspec": {
      "name": "python3",
      "display_name": "Python 3"
    }
  },
  "cells": [
    {
      "cell_type": "code",
      "metadata": {
        "id": "u87B4DdN34ay",
        "colab_type": "code",
        "colab": {
          "base_uri": "https://localhost:8080/",
          "height": 145
        },
        "outputId": "537c047c-1c82-4ddc-d4e6-dd9a548783a0"
      },
      "source": [
        "!pip install gym "
      ],
      "execution_count": null,
      "outputs": [
        {
          "output_type": "stream",
          "text": [
            "Requirement already satisfied: gym in /usr/local/lib/python3.6/dist-packages (0.17.1)\n",
            "Requirement already satisfied: numpy>=1.10.4 in /usr/local/lib/python3.6/dist-packages (from gym) (1.18.2)\n",
            "Requirement already satisfied: cloudpickle<1.4.0,>=1.2.0 in /usr/local/lib/python3.6/dist-packages (from gym) (1.3.0)\n",
            "Requirement already satisfied: scipy in /usr/local/lib/python3.6/dist-packages (from gym) (1.4.1)\n",
            "Requirement already satisfied: six in /usr/local/lib/python3.6/dist-packages (from gym) (1.12.0)\n",
            "Requirement already satisfied: pyglet<=1.5.0,>=1.4.0 in /usr/local/lib/python3.6/dist-packages (from gym) (1.5.0)\n",
            "Requirement already satisfied: future in /usr/local/lib/python3.6/dist-packages (from pyglet<=1.5.0,>=1.4.0->gym) (0.16.0)\n"
          ],
          "name": "stdout"
        }
      ]
    },
    {
      "cell_type": "code",
      "metadata": {
        "id": "hCW0w8oh4LE8",
        "colab_type": "code",
        "colab": {}
      },
      "source": [
        "import numpy as np\n",
        "import gym\n",
        "import random\n",
        "import time\n",
        "from IPython.display import clear_output"
      ],
      "execution_count": null,
      "outputs": []
    },
    {
      "cell_type": "code",
      "metadata": {
        "id": "2_8AAAzL4njW",
        "colab_type": "code",
        "colab": {}
      },
      "source": [
        "env=gym.make(\"FrozenLake-v0\")"
      ],
      "execution_count": null,
      "outputs": []
    },
    {
      "cell_type": "code",
      "metadata": {
        "id": "mclhiHHG4x9H",
        "colab_type": "code",
        "colab": {
          "base_uri": "https://localhost:8080/",
          "height": 308
        },
        "outputId": "b69f5687-08a1-458d-eddf-c89ee0ca7142"
      },
      "source": [
        "action_space_size = env.action_space.n\n",
        "state_space_size = env.observation_space.n\n",
        "q_table = np.zeros((state_space_size,action_space_size))\n",
        "print(q_table)"
      ],
      "execution_count": null,
      "outputs": [
        {
          "output_type": "stream",
          "text": [
            "[[0. 0. 0. 0.]\n",
            " [0. 0. 0. 0.]\n",
            " [0. 0. 0. 0.]\n",
            " [0. 0. 0. 0.]\n",
            " [0. 0. 0. 0.]\n",
            " [0. 0. 0. 0.]\n",
            " [0. 0. 0. 0.]\n",
            " [0. 0. 0. 0.]\n",
            " [0. 0. 0. 0.]\n",
            " [0. 0. 0. 0.]\n",
            " [0. 0. 0. 0.]\n",
            " [0. 0. 0. 0.]\n",
            " [0. 0. 0. 0.]\n",
            " [0. 0. 0. 0.]\n",
            " [0. 0. 0. 0.]\n",
            " [0. 0. 0. 0.]]\n"
          ],
          "name": "stdout"
        }
      ]
    },
    {
      "cell_type": "code",
      "metadata": {
        "id": "W8bZMPQz5Zl7",
        "colab_type": "code",
        "colab": {}
      },
      "source": [
        "num_episodes = 10000\n",
        "max_steps_per_episode = 100\n",
        "\n",
        "learning_rate = 0.10\n",
        "discount_rate = 0.99\n",
        "\n",
        "exploration_rate = 1\n",
        "max_exploration_rate = 1\n",
        "min_exploration_rate = 0.01\n",
        "exploration_decay_rate = 0.001"
      ],
      "execution_count": null,
      "outputs": []
    },
    {
      "cell_type": "code",
      "metadata": {
        "id": "TW3r-fC86PS2",
        "colab_type": "code",
        "colab": {
          "base_uri": "https://localhost:8080/",
          "height": 599
        },
        "outputId": "c8247054-8e42-4988-f014-a8ed8c38b176"
      },
      "source": [
        "rewards_all_episodes = []\n",
        "\n",
        "for episode in range(num_episodes):\n",
        "  state = env.reset()\n",
        "\n",
        "  done = False\n",
        "  rewards_current_episode = 0\n",
        "  for step in range(max_steps_per_episode):\n",
        "    exporation_rate_threshold = random.uniform(0, 1)\n",
        "    if exporation_rate_threshold > exploration_rate:\n",
        "      action = np.argmax(q_table[state,:])\n",
        "    else:\n",
        "      action = env.action_space.sample()\n",
        "\n",
        "    new_state, reward, done, info = env.step(action)\n",
        "\n",
        "    q_table[state, action] = q_table[state, action]*(1-learning_rate) + learning_rate*(reward + discount_rate * np.max(q_table[new_state, :]))\n",
        "\n",
        "    state = new_state\n",
        "    rewards_current_episode += reward\n",
        "\n",
        "    if done == True:\n",
        "      break\n",
        "  exploration_rate = min_exploration_rate + (max_exploration_rate - min_exploration_rate) * np.exp(-exploration_decay_rate*episode)\n",
        "  rewards_all_episodes.append(rewards_current_episode)\n",
        "\n",
        "\n",
        "rewards_per_thousand_episodes = np.split(np.array(rewards_all_episodes),num_episodes/1000)\n",
        "count = 1000\n",
        "print(\"--------Average reward per thousand episodes---------------\\n\")\n",
        "\n",
        "for r in rewards_per_thousand_episodes:\n",
        "  print(count, \": \", str(sum(r/1000)))\n",
        "  count += 1000\n",
        "\n",
        "print(\"\\n\\n ******Q-Table******\\n\")\n",
        "print(q_table)\n",
        "\n",
        "\n",
        "\n"
      ],
      "execution_count": null,
      "outputs": [
        {
          "output_type": "stream",
          "text": [
            "--------Average reward per thousand episodes---------------\n",
            "\n",
            "1000 :  0.02900000000000002\n",
            "2000 :  0.21500000000000016\n",
            "3000 :  0.4250000000000003\n",
            "4000 :  0.5620000000000004\n",
            "5000 :  0.6580000000000005\n",
            "6000 :  0.6740000000000005\n",
            "7000 :  0.6780000000000005\n",
            "8000 :  0.6760000000000005\n",
            "9000 :  0.6630000000000005\n",
            "10000 :  0.6760000000000005\n",
            "\n",
            "\n",
            " ******Q-Table******\n",
            "\n",
            "[[0.56110326 0.51357322 0.5167374  0.50939989]\n",
            " [0.41572739 0.39308457 0.35484561 0.50441119]\n",
            " [0.4279542  0.41169983 0.40483166 0.46794146]\n",
            " [0.30497864 0.28435433 0.18142042 0.45354365]\n",
            " [0.58666248 0.40038435 0.41645167 0.33258357]\n",
            " [0.         0.         0.         0.        ]\n",
            " [0.20348465 0.15153949 0.36380643 0.11751145]\n",
            " [0.         0.         0.         0.        ]\n",
            " [0.45261654 0.50133322 0.41706646 0.64340549]\n",
            " [0.28617986 0.73102146 0.56138651 0.34788167]\n",
            " [0.64290892 0.5074559  0.33589001 0.28658481]\n",
            " [0.         0.         0.         0.        ]\n",
            " [0.         0.         0.         0.        ]\n",
            " [0.41199809 0.31596925 0.83287675 0.36926493]\n",
            " [0.72235524 0.91843987 0.76360271 0.75134398]\n",
            " [0.         0.         0.         0.        ]]\n"
          ],
          "name": "stdout"
        }
      ]
    },
    {
      "cell_type": "code",
      "metadata": {
        "id": "4WXKkTYF_-ie",
        "colab_type": "code",
        "colab": {
          "base_uri": "https://localhost:8080/",
          "height": 126
        },
        "outputId": "81b3fcf1-a55a-4bfb-ef41-b166d595e0a6"
      },
      "source": [
        "for episode in range(10):\n",
        "  state = env.reset()\n",
        "  done = False\n",
        "  print(\"----EPISODE  \", episode+1, \"-------\\n\\n\\n\\n\")\n",
        "  time.sleep(1)\n",
        "  for step in range(max_steps_per_episode):\n",
        "    clear_output(wait = True)\n",
        "    env.render()\n",
        "    time.sleep(0.2)\n",
        "\n",
        "    action = np.argmax(q_table[state,:])\n",
        "    new_state, reward, done, info = env.step(action)\n",
        "\n",
        "    if done:\n",
        "      clear_output(wait = True)\n",
        "      env.render()\n",
        "      if reward == 1:\n",
        "        print(\"*****You reached the goal!*****\")\n",
        "        time.sleep(2)\n",
        "      else:\n",
        "        print(\"*****You fell through a hole!******\")\n",
        "        time.sleep(2)\n",
        "      clear_output(wait = True)\n",
        "      break\n",
        "\n",
        "    state = new_state\n",
        "\n",
        "env.close()\n",
        "\n"
      ],
      "execution_count": null,
      "outputs": [
        {
          "output_type": "stream",
          "text": [
            "  (Left)\n",
            "\u001b[41mS\u001b[0mFFF\n",
            "FHFH\n",
            "FFFH\n",
            "HFFG\n",
            "*****You fell through a hole!******\n"
          ],
          "name": "stdout"
        }
      ]
    },
    {
      "cell_type": "code",
      "metadata": {
        "id": "BUG26_1MEbov",
        "colab_type": "code",
        "colab": {}
      },
      "source": [
        ""
      ],
      "execution_count": null,
      "outputs": []
    }
  ]
}