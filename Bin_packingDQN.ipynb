{
  "nbformat": 4,
  "nbformat_minor": 0,
  "metadata": {
    "colab": {
      "name": "Bin_packingDQN.ipynb",
      "provenance": []
    },
    "kernelspec": {
      "name": "python3",
      "display_name": "Python 3"
    }
  },
  "cells": [
    {
      "cell_type": "code",
      "metadata": {
        "id": "M42TBmV3jy3h",
        "colab_type": "code",
        "colab": {
          "base_uri": "https://localhost:8080/",
          "height": 237
        },
        "outputId": "c413fba5-20fd-441b-8795-4bd00a5bb446"
      },
      "source": [
        "!ln -sf /opt/bin/nvidia-smi /usr/bin/nvidia-smi\n",
        "!pip install gputil\n",
        "!pip install psutil\n",
        "!pip install humanize"
      ],
      "execution_count": null,
      "outputs": [
        {
          "output_type": "stream",
          "text": [
            "Collecting gputil\n",
            "  Downloading https://files.pythonhosted.org/packages/ed/0e/5c61eedde9f6c87713e89d794f01e378cfd9565847d4576fa627d758c554/GPUtil-1.4.0.tar.gz\n",
            "Building wheels for collected packages: gputil\n",
            "  Building wheel for gputil (setup.py) ... \u001b[?25l\u001b[?25hdone\n",
            "  Created wheel for gputil: filename=GPUtil-1.4.0-cp36-none-any.whl size=7413 sha256=00fdaeff631fb3cd28003f08940fa6db9838407e8a43d1399998de7d73c06b84\n",
            "  Stored in directory: /root/.cache/pip/wheels/3d/77/07/80562de4bb0786e5ea186911a2c831fdd0018bda69beab71fd\n",
            "Successfully built gputil\n",
            "Installing collected packages: gputil\n",
            "Successfully installed gputil-1.4.0\n",
            "Requirement already satisfied: psutil in /usr/local/lib/python3.6/dist-packages (5.4.8)\n",
            "Requirement already satisfied: humanize in /usr/local/lib/python3.6/dist-packages (0.5.1)\n"
          ],
          "name": "stdout"
        }
      ]
    },
    {
      "cell_type": "code",
      "metadata": {
        "id": "O2s-DzXSj2qc",
        "colab_type": "code",
        "colab": {}
      },
      "source": [
        "import psutil\n",
        "import humanize\n",
        "import os\n",
        "import GPUtil as GPU"
      ],
      "execution_count": null,
      "outputs": []
    },
    {
      "cell_type": "code",
      "metadata": {
        "id": "9YC1GNksj6KI",
        "colab_type": "code",
        "colab": {}
      },
      "source": [
        "def printmg():\n",
        "  GPUs = GPU.getGPUs()\n",
        "  gpu = GPUs[0]\n",
        "  process = psutil.Process(os.getpid())\n",
        "  print(\"Gen RAM Free: \" + humanize.naturalsize( psutil.virtual_memory().available ), \" | Proc size: \" + humanize.naturalsize( process.memory_info().rss))\n",
        "  print(\"GPU RAM Free: {0:.0f}MB | Used: {1:.0f}MB | Util {2:3.0f}% | Total {3:.0f}MB\".format(gpu.memoryFree, gpu.memoryUsed, gpu.memoryUtil*100, gpu.memoryTotal))\n",
        "\n",
        "printmg()"
      ],
      "execution_count": null,
      "outputs": []
    },
    {
      "cell_type": "code",
      "metadata": {
        "id": "qnThqP5To-1B",
        "colab_type": "code",
        "colab": {}
      },
      "source": [
        "import tensorflow as tf\n",
        "import numpy as np\n",
        "import os\n",
        "import io\n",
        "import time\n",
        "import random\n",
        "import shutil\n",
        "from IPython.display import clear_output\n",
        "from tqdm.notebook import tqdm\n",
        "from tensorflow.keras.layers import Activation, Dense, LeakyReLU, PReLU, ReLU, BatchNormalization,Embedding,Attention,LSTM,TimeDistributed, Bidirectional,Input \n",
        "from tensorflow.keras.layers import Lambda, Flatten, add, Conv1D, RNN, multiply\n",
        "from tensorflow.keras.models import Model\n",
        "from tensorflow.keras.optimizers import SGD, Adam, RMSprop\n",
        "import tensorflow.keras.backend as K"
      ],
      "execution_count": null,
      "outputs": []
    },
    {
      "cell_type": "code",
      "metadata": {
        "id": "3EeDLQ5NZKnc",
        "colab_type": "code",
        "colab": {}
      },
      "source": [
        "from environment2 import *\n",
        "from service_batch_generator import *\n",
        "%matplotlib inline"
      ],
      "execution_count": null,
      "outputs": []
    },
    {
      "cell_type": "code",
      "metadata": {
        "id": "DX6_4eZjkOx2",
        "colab_type": "code",
        "colab": {}
      },
      "source": [
        "num_bins=6\n",
        "bin_sizes_vol = [600,500,400,300,200,100]\n",
        "bin_sizes_wt = [600,500,400,300,200,100]\n",
        "num_descriptors = 20\n",
        "num_ids = 4\n",
        "size_ranges =  [1,200, 1,200]\n",
        "cost_ranges = [100,500]\n",
        "drop_off = 20 \n",
        "max_cons = 2\n",
        "batch_size = 5\n",
        "min_length = 2\n",
        "max_length = 12"
      ],
      "execution_count": null,
      "outputs": []
    },
    {
      "cell_type": "code",
      "metadata": {
        "id": "k89uVIiVdKO6",
        "colab_type": "code",
        "colab": {}
      },
      "source": [
        "env = Environment(num_bins,bin_sizes_vol,bin_sizes_wt,num_descriptors,num_ids,size_ranges,cost_ranges,drop_off,max_cons)"
      ],
      "execution_count": null,
      "outputs": []
    },
    {
      "cell_type": "code",
      "metadata": {
        "id": "rYl2aeesCHeI",
        "colab_type": "code",
        "colab": {}
      },
      "source": [
        "services = ServiceBatchGenerator(batch_size,min_length, max_length, num_descriptors)"
      ],
      "execution_count": null,
      "outputs": []
    },
    {
      "cell_type": "code",
      "metadata": {
        "id": "nUbCDJdmeAsN",
        "colab_type": "code",
        "colab": {}
      },
      "source": [
        "envs = []\n",
        "for i in range(batch_size):\n",
        "  env = Environment(num_bins,bin_sizes_vol,bin_sizes_wt,num_descriptors,num_ids,size_ranges,cost_ranges,drop_off,max_cons)\n",
        "  env.get_service_propertieses()\n",
        "  envs.append(env)"
      ],
      "execution_count": null,
      "outputs": []
    },
    {
      "cell_type": "code",
      "metadata": {
        "id": "2816lvRJeWX0",
        "colab_type": "code",
        "colab": {}
      },
      "source": [
        "env.get_service_propertieses()"
      ],
      "execution_count": null,
      "outputs": []
    },
    {
      "cell_type": "code",
      "metadata": {
        "id": "yFC3tzJMeDKC",
        "colab_type": "code",
        "colab": {}
      },
      "source": [
        "services.getNewState()"
      ],
      "execution_count": null,
      "outputs": []
    },
    {
      "cell_type": "code",
      "metadata": {
        "id": "ILcAcbXaDuzy",
        "colab_type": "code",
        "colab": {}
      },
      "source": [
        "def vector_embedding_final(inputBatch, env):\n",
        "    \"\"\" One-Hot Vector embedding \"\"\"\n",
        "\n",
        "    state_size_sequence = inputBatch.maxServiceLength\n",
        "    state_size_embeddings = env.num_ids\n",
        "    remaining_embeddings = 1 + 1 + 1 + env.numBins # wt + vol + combine + (cost*do_not_include)\n",
        "\n",
        "    state = np.zeros((inputBatch.batchSize, state_size_sequence, state_size_embeddings+remaining_embeddings), dtype='int32')\n",
        "\n",
        "    for batch in range(inputBatch.batchSize):\n",
        "        for i in range(inputBatch.serviceLength[batch]):\n",
        "\n",
        "            # Packet embeddings OH\n",
        "            # Packet1 {1,0,0,0,0,0,0,0}\n",
        "            # Packet2 {0,1,0,0,0,0,0,0}\n",
        "            # ...\n",
        "            # Packet8 {0,0,0,0,0,0,0,1}\n",
        "\n",
        "            c_id = env.service_properties[inputBatch.state[batch][i]][\"id\"]\n",
        "            pkt_vol = env.service_properties[inputBatch.state[batch][i]][\"vol\"]\n",
        "            pkt_weight = env.service_properties[inputBatch.state[batch][i]][\"weight\"]\n",
        "            combine = env.service_properties[inputBatch.state[batch][i]][\"combine\"]\n",
        "            state[batch][i][c_id] = 1\n",
        "            state[batch][i][state_size_embeddings] = pkt_weight\n",
        "            state[batch][i][state_size_embeddings+1] = pkt_vol\n",
        "            state[batch][i][state_size_embeddings+2] = combine\n",
        "\n",
        "            #multiply do_not_inc with costs\n",
        "            cost_embeddings=[env.service_properties[inputBatch.state[batch][i]][\"do_not_inc\"][j] *\n",
        "               env.service_properties[inputBatch.state[batch][i]][\"pkt_bin_costs\"][j]\n",
        "               for j in range(len(env.service_properties[inputBatch.state[batch][i]][\"do_not_inc\"]))]\n",
        "\n",
        "            for k in range(len(cost_embeddings)):\n",
        "                state[batch][i][state_size_embeddings + 3+k] = cost_embeddings[k]\n",
        "\n",
        "    return state"
      ],
      "execution_count": null,
      "outputs": []
    },
    {
      "cell_type": "code",
      "metadata": {
        "id": "tJzRexQjrqt3",
        "colab_type": "code",
        "colab": {}
      },
      "source": [
        "input_state = vector_embedding_final(services, env)"
      ],
      "execution_count": null,
      "outputs": []
    },
    {
      "cell_type": "code",
      "metadata": {
        "id": "hn-UKLWefPhL",
        "colab_type": "code",
        "colab": {
          "base_uri": "https://localhost:8080/",
          "height": 1000
        },
        "outputId": "ca8c7708-460b-42d1-916b-02595534bbd0"
      },
      "source": [
        "for i in range(5):\n",
        "  print(len(envs[i].service_properties))\n",
        "  for i in range(20):\n",
        "    print(envs[0].service_properties[i])"
      ],
      "execution_count": null,
      "outputs": [
        {
          "output_type": "stream",
          "text": [
            "20\n",
            "{'id': 0, 'vol': 24, 'weight': 186, 'combine': 1, 'do_not_inc': array([1, 1, 1, 1, 1, 1]), 'pkt_bin_costs': [121, 259, 355, 452, 114, 292]}\n",
            "{'id': 0, 'vol': 165, 'weight': 67, 'combine': 1, 'do_not_inc': array([1, 1, 1, 1, 1, 1]), 'pkt_bin_costs': [121, 259, 355, 452, 114, 292]}\n",
            "{'id': 0, 'vol': 32, 'weight': 161, 'combine': 1, 'do_not_inc': array([1, 1, 1, 1, 1, 1]), 'pkt_bin_costs': [121, 259, 355, 452, 114, 292]}\n",
            "{'id': 0, 'vol': 56, 'weight': 37, 'combine': 1, 'do_not_inc': array([1, 1, 1, 1, 1, 1]), 'pkt_bin_costs': [121, 259, 355, 452, 114, 292]}\n",
            "{'id': 0, 'vol': 116, 'weight': 18, 'combine': 1, 'do_not_inc': array([1, 1, 1, 1, 1, 1]), 'pkt_bin_costs': [121, 259, 355, 452, 114, 292]}\n",
            "{'id': 1, 'vol': 77, 'weight': 174, 'combine': 1, 'do_not_inc': array([1, 1, 1, 1, 1, 1]), 'pkt_bin_costs': [404, 221, 396, 267, 417, 273]}\n",
            "{'id': 2, 'vol': 127, 'weight': 89, 'combine': 1, 'do_not_inc': array([1, 1, 1, 1, 1, 1]), 'pkt_bin_costs': [164, 405, 384, 229, 157, 496]}\n",
            "{'id': 2, 'vol': 5, 'weight': 97, 'combine': 1, 'do_not_inc': array([1, 1, 1, 1, 1, 1]), 'pkt_bin_costs': [164, 405, 384, 229, 157, 496]}\n",
            "{'id': 2, 'vol': 1, 'weight': 111, 'combine': 1, 'do_not_inc': array([1, 1, 1, 1, 1, 1]), 'pkt_bin_costs': [164, 405, 384, 229, 157, 496]}\n",
            "{'id': 2, 'vol': 127, 'weight': 124, 'combine': 1, 'do_not_inc': array([1, 1, 1, 1, 1, 1]), 'pkt_bin_costs': [164, 405, 384, 229, 157, 496]}\n",
            "{'id': 2, 'vol': 197, 'weight': 30, 'combine': 1, 'do_not_inc': array([1, 1, 1, 1, 1, 1]), 'pkt_bin_costs': [164, 405, 384, 229, 157, 496]}\n",
            "{'id': 2, 'vol': 180, 'weight': 141, 'combine': 1, 'do_not_inc': array([1, 1, 1, 1, 1, 1]), 'pkt_bin_costs': [164, 405, 384, 229, 157, 496]}\n",
            "{'id': 2, 'vol': 12, 'weight': 144, 'combine': 1, 'do_not_inc': array([1, 1, 1, 1, 1, 1]), 'pkt_bin_costs': [164, 405, 384, 229, 157, 496]}\n",
            "{'id': 2, 'vol': 136, 'weight': 154, 'combine': 1, 'do_not_inc': array([1, 1, 1, 1, 1, 1]), 'pkt_bin_costs': [164, 405, 384, 229, 157, 496]}\n",
            "{'id': 2, 'vol': 182, 'weight': 65, 'combine': 1, 'do_not_inc': array([1, 1, 1, 1, 1, 1]), 'pkt_bin_costs': [164, 405, 384, 229, 157, 496]}\n",
            "{'id': 2, 'vol': 88, 'weight': 42, 'combine': 1, 'do_not_inc': array([1, 1, 1, 1, 1, 1]), 'pkt_bin_costs': [164, 405, 384, 229, 157, 496]}\n",
            "{'id': 2, 'vol': 174, 'weight': 126, 'combine': 1, 'do_not_inc': array([1, 1, 1, 1, 1, 1]), 'pkt_bin_costs': [164, 405, 384, 229, 157, 496]}\n",
            "{'id': 2, 'vol': 179, 'weight': 137, 'combine': 1, 'do_not_inc': array([1, 1, 1, 1, 1, 1]), 'pkt_bin_costs': [164, 405, 384, 229, 157, 496]}\n",
            "{'id': 2, 'vol': 151, 'weight': 18, 'combine': 1, 'do_not_inc': array([1, 1, 1, 1, 1, 1]), 'pkt_bin_costs': [164, 405, 384, 229, 157, 496]}\n",
            "{'id': 2, 'vol': 134, 'weight': 96, 'combine': 1, 'do_not_inc': array([1, 1, 1, 1, 1, 1]), 'pkt_bin_costs': [164, 405, 384, 229, 157, 496]}\n",
            "20\n",
            "{'id': 0, 'vol': 24, 'weight': 186, 'combine': 1, 'do_not_inc': array([1, 1, 1, 1, 1, 1]), 'pkt_bin_costs': [121, 259, 355, 452, 114, 292]}\n",
            "{'id': 0, 'vol': 165, 'weight': 67, 'combine': 1, 'do_not_inc': array([1, 1, 1, 1, 1, 1]), 'pkt_bin_costs': [121, 259, 355, 452, 114, 292]}\n",
            "{'id': 0, 'vol': 32, 'weight': 161, 'combine': 1, 'do_not_inc': array([1, 1, 1, 1, 1, 1]), 'pkt_bin_costs': [121, 259, 355, 452, 114, 292]}\n",
            "{'id': 0, 'vol': 56, 'weight': 37, 'combine': 1, 'do_not_inc': array([1, 1, 1, 1, 1, 1]), 'pkt_bin_costs': [121, 259, 355, 452, 114, 292]}\n",
            "{'id': 0, 'vol': 116, 'weight': 18, 'combine': 1, 'do_not_inc': array([1, 1, 1, 1, 1, 1]), 'pkt_bin_costs': [121, 259, 355, 452, 114, 292]}\n",
            "{'id': 1, 'vol': 77, 'weight': 174, 'combine': 1, 'do_not_inc': array([1, 1, 1, 1, 1, 1]), 'pkt_bin_costs': [404, 221, 396, 267, 417, 273]}\n",
            "{'id': 2, 'vol': 127, 'weight': 89, 'combine': 1, 'do_not_inc': array([1, 1, 1, 1, 1, 1]), 'pkt_bin_costs': [164, 405, 384, 229, 157, 496]}\n",
            "{'id': 2, 'vol': 5, 'weight': 97, 'combine': 1, 'do_not_inc': array([1, 1, 1, 1, 1, 1]), 'pkt_bin_costs': [164, 405, 384, 229, 157, 496]}\n",
            "{'id': 2, 'vol': 1, 'weight': 111, 'combine': 1, 'do_not_inc': array([1, 1, 1, 1, 1, 1]), 'pkt_bin_costs': [164, 405, 384, 229, 157, 496]}\n",
            "{'id': 2, 'vol': 127, 'weight': 124, 'combine': 1, 'do_not_inc': array([1, 1, 1, 1, 1, 1]), 'pkt_bin_costs': [164, 405, 384, 229, 157, 496]}\n",
            "{'id': 2, 'vol': 197, 'weight': 30, 'combine': 1, 'do_not_inc': array([1, 1, 1, 1, 1, 1]), 'pkt_bin_costs': [164, 405, 384, 229, 157, 496]}\n",
            "{'id': 2, 'vol': 180, 'weight': 141, 'combine': 1, 'do_not_inc': array([1, 1, 1, 1, 1, 1]), 'pkt_bin_costs': [164, 405, 384, 229, 157, 496]}\n",
            "{'id': 2, 'vol': 12, 'weight': 144, 'combine': 1, 'do_not_inc': array([1, 1, 1, 1, 1, 1]), 'pkt_bin_costs': [164, 405, 384, 229, 157, 496]}\n",
            "{'id': 2, 'vol': 136, 'weight': 154, 'combine': 1, 'do_not_inc': array([1, 1, 1, 1, 1, 1]), 'pkt_bin_costs': [164, 405, 384, 229, 157, 496]}\n",
            "{'id': 2, 'vol': 182, 'weight': 65, 'combine': 1, 'do_not_inc': array([1, 1, 1, 1, 1, 1]), 'pkt_bin_costs': [164, 405, 384, 229, 157, 496]}\n",
            "{'id': 2, 'vol': 88, 'weight': 42, 'combine': 1, 'do_not_inc': array([1, 1, 1, 1, 1, 1]), 'pkt_bin_costs': [164, 405, 384, 229, 157, 496]}\n",
            "{'id': 2, 'vol': 174, 'weight': 126, 'combine': 1, 'do_not_inc': array([1, 1, 1, 1, 1, 1]), 'pkt_bin_costs': [164, 405, 384, 229, 157, 496]}\n",
            "{'id': 2, 'vol': 179, 'weight': 137, 'combine': 1, 'do_not_inc': array([1, 1, 1, 1, 1, 1]), 'pkt_bin_costs': [164, 405, 384, 229, 157, 496]}\n",
            "{'id': 2, 'vol': 151, 'weight': 18, 'combine': 1, 'do_not_inc': array([1, 1, 1, 1, 1, 1]), 'pkt_bin_costs': [164, 405, 384, 229, 157, 496]}\n",
            "{'id': 2, 'vol': 134, 'weight': 96, 'combine': 1, 'do_not_inc': array([1, 1, 1, 1, 1, 1]), 'pkt_bin_costs': [164, 405, 384, 229, 157, 496]}\n",
            "20\n",
            "{'id': 0, 'vol': 24, 'weight': 186, 'combine': 1, 'do_not_inc': array([1, 1, 1, 1, 1, 1]), 'pkt_bin_costs': [121, 259, 355, 452, 114, 292]}\n",
            "{'id': 0, 'vol': 165, 'weight': 67, 'combine': 1, 'do_not_inc': array([1, 1, 1, 1, 1, 1]), 'pkt_bin_costs': [121, 259, 355, 452, 114, 292]}\n",
            "{'id': 0, 'vol': 32, 'weight': 161, 'combine': 1, 'do_not_inc': array([1, 1, 1, 1, 1, 1]), 'pkt_bin_costs': [121, 259, 355, 452, 114, 292]}\n",
            "{'id': 0, 'vol': 56, 'weight': 37, 'combine': 1, 'do_not_inc': array([1, 1, 1, 1, 1, 1]), 'pkt_bin_costs': [121, 259, 355, 452, 114, 292]}\n",
            "{'id': 0, 'vol': 116, 'weight': 18, 'combine': 1, 'do_not_inc': array([1, 1, 1, 1, 1, 1]), 'pkt_bin_costs': [121, 259, 355, 452, 114, 292]}\n",
            "{'id': 1, 'vol': 77, 'weight': 174, 'combine': 1, 'do_not_inc': array([1, 1, 1, 1, 1, 1]), 'pkt_bin_costs': [404, 221, 396, 267, 417, 273]}\n",
            "{'id': 2, 'vol': 127, 'weight': 89, 'combine': 1, 'do_not_inc': array([1, 1, 1, 1, 1, 1]), 'pkt_bin_costs': [164, 405, 384, 229, 157, 496]}\n",
            "{'id': 2, 'vol': 5, 'weight': 97, 'combine': 1, 'do_not_inc': array([1, 1, 1, 1, 1, 1]), 'pkt_bin_costs': [164, 405, 384, 229, 157, 496]}\n",
            "{'id': 2, 'vol': 1, 'weight': 111, 'combine': 1, 'do_not_inc': array([1, 1, 1, 1, 1, 1]), 'pkt_bin_costs': [164, 405, 384, 229, 157, 496]}\n",
            "{'id': 2, 'vol': 127, 'weight': 124, 'combine': 1, 'do_not_inc': array([1, 1, 1, 1, 1, 1]), 'pkt_bin_costs': [164, 405, 384, 229, 157, 496]}\n",
            "{'id': 2, 'vol': 197, 'weight': 30, 'combine': 1, 'do_not_inc': array([1, 1, 1, 1, 1, 1]), 'pkt_bin_costs': [164, 405, 384, 229, 157, 496]}\n",
            "{'id': 2, 'vol': 180, 'weight': 141, 'combine': 1, 'do_not_inc': array([1, 1, 1, 1, 1, 1]), 'pkt_bin_costs': [164, 405, 384, 229, 157, 496]}\n",
            "{'id': 2, 'vol': 12, 'weight': 144, 'combine': 1, 'do_not_inc': array([1, 1, 1, 1, 1, 1]), 'pkt_bin_costs': [164, 405, 384, 229, 157, 496]}\n",
            "{'id': 2, 'vol': 136, 'weight': 154, 'combine': 1, 'do_not_inc': array([1, 1, 1, 1, 1, 1]), 'pkt_bin_costs': [164, 405, 384, 229, 157, 496]}\n",
            "{'id': 2, 'vol': 182, 'weight': 65, 'combine': 1, 'do_not_inc': array([1, 1, 1, 1, 1, 1]), 'pkt_bin_costs': [164, 405, 384, 229, 157, 496]}\n",
            "{'id': 2, 'vol': 88, 'weight': 42, 'combine': 1, 'do_not_inc': array([1, 1, 1, 1, 1, 1]), 'pkt_bin_costs': [164, 405, 384, 229, 157, 496]}\n",
            "{'id': 2, 'vol': 174, 'weight': 126, 'combine': 1, 'do_not_inc': array([1, 1, 1, 1, 1, 1]), 'pkt_bin_costs': [164, 405, 384, 229, 157, 496]}\n",
            "{'id': 2, 'vol': 179, 'weight': 137, 'combine': 1, 'do_not_inc': array([1, 1, 1, 1, 1, 1]), 'pkt_bin_costs': [164, 405, 384, 229, 157, 496]}\n",
            "{'id': 2, 'vol': 151, 'weight': 18, 'combine': 1, 'do_not_inc': array([1, 1, 1, 1, 1, 1]), 'pkt_bin_costs': [164, 405, 384, 229, 157, 496]}\n",
            "{'id': 2, 'vol': 134, 'weight': 96, 'combine': 1, 'do_not_inc': array([1, 1, 1, 1, 1, 1]), 'pkt_bin_costs': [164, 405, 384, 229, 157, 496]}\n",
            "20\n",
            "{'id': 0, 'vol': 24, 'weight': 186, 'combine': 1, 'do_not_inc': array([1, 1, 1, 1, 1, 1]), 'pkt_bin_costs': [121, 259, 355, 452, 114, 292]}\n",
            "{'id': 0, 'vol': 165, 'weight': 67, 'combine': 1, 'do_not_inc': array([1, 1, 1, 1, 1, 1]), 'pkt_bin_costs': [121, 259, 355, 452, 114, 292]}\n",
            "{'id': 0, 'vol': 32, 'weight': 161, 'combine': 1, 'do_not_inc': array([1, 1, 1, 1, 1, 1]), 'pkt_bin_costs': [121, 259, 355, 452, 114, 292]}\n",
            "{'id': 0, 'vol': 56, 'weight': 37, 'combine': 1, 'do_not_inc': array([1, 1, 1, 1, 1, 1]), 'pkt_bin_costs': [121, 259, 355, 452, 114, 292]}\n",
            "{'id': 0, 'vol': 116, 'weight': 18, 'combine': 1, 'do_not_inc': array([1, 1, 1, 1, 1, 1]), 'pkt_bin_costs': [121, 259, 355, 452, 114, 292]}\n",
            "{'id': 1, 'vol': 77, 'weight': 174, 'combine': 1, 'do_not_inc': array([1, 1, 1, 1, 1, 1]), 'pkt_bin_costs': [404, 221, 396, 267, 417, 273]}\n",
            "{'id': 2, 'vol': 127, 'weight': 89, 'combine': 1, 'do_not_inc': array([1, 1, 1, 1, 1, 1]), 'pkt_bin_costs': [164, 405, 384, 229, 157, 496]}\n",
            "{'id': 2, 'vol': 5, 'weight': 97, 'combine': 1, 'do_not_inc': array([1, 1, 1, 1, 1, 1]), 'pkt_bin_costs': [164, 405, 384, 229, 157, 496]}\n",
            "{'id': 2, 'vol': 1, 'weight': 111, 'combine': 1, 'do_not_inc': array([1, 1, 1, 1, 1, 1]), 'pkt_bin_costs': [164, 405, 384, 229, 157, 496]}\n",
            "{'id': 2, 'vol': 127, 'weight': 124, 'combine': 1, 'do_not_inc': array([1, 1, 1, 1, 1, 1]), 'pkt_bin_costs': [164, 405, 384, 229, 157, 496]}\n",
            "{'id': 2, 'vol': 197, 'weight': 30, 'combine': 1, 'do_not_inc': array([1, 1, 1, 1, 1, 1]), 'pkt_bin_costs': [164, 405, 384, 229, 157, 496]}\n",
            "{'id': 2, 'vol': 180, 'weight': 141, 'combine': 1, 'do_not_inc': array([1, 1, 1, 1, 1, 1]), 'pkt_bin_costs': [164, 405, 384, 229, 157, 496]}\n",
            "{'id': 2, 'vol': 12, 'weight': 144, 'combine': 1, 'do_not_inc': array([1, 1, 1, 1, 1, 1]), 'pkt_bin_costs': [164, 405, 384, 229, 157, 496]}\n",
            "{'id': 2, 'vol': 136, 'weight': 154, 'combine': 1, 'do_not_inc': array([1, 1, 1, 1, 1, 1]), 'pkt_bin_costs': [164, 405, 384, 229, 157, 496]}\n",
            "{'id': 2, 'vol': 182, 'weight': 65, 'combine': 1, 'do_not_inc': array([1, 1, 1, 1, 1, 1]), 'pkt_bin_costs': [164, 405, 384, 229, 157, 496]}\n",
            "{'id': 2, 'vol': 88, 'weight': 42, 'combine': 1, 'do_not_inc': array([1, 1, 1, 1, 1, 1]), 'pkt_bin_costs': [164, 405, 384, 229, 157, 496]}\n",
            "{'id': 2, 'vol': 174, 'weight': 126, 'combine': 1, 'do_not_inc': array([1, 1, 1, 1, 1, 1]), 'pkt_bin_costs': [164, 405, 384, 229, 157, 496]}\n",
            "{'id': 2, 'vol': 179, 'weight': 137, 'combine': 1, 'do_not_inc': array([1, 1, 1, 1, 1, 1]), 'pkt_bin_costs': [164, 405, 384, 229, 157, 496]}\n",
            "{'id': 2, 'vol': 151, 'weight': 18, 'combine': 1, 'do_not_inc': array([1, 1, 1, 1, 1, 1]), 'pkt_bin_costs': [164, 405, 384, 229, 157, 496]}\n",
            "{'id': 2, 'vol': 134, 'weight': 96, 'combine': 1, 'do_not_inc': array([1, 1, 1, 1, 1, 1]), 'pkt_bin_costs': [164, 405, 384, 229, 157, 496]}\n",
            "20\n",
            "{'id': 0, 'vol': 24, 'weight': 186, 'combine': 1, 'do_not_inc': array([1, 1, 1, 1, 1, 1]), 'pkt_bin_costs': [121, 259, 355, 452, 114, 292]}\n",
            "{'id': 0, 'vol': 165, 'weight': 67, 'combine': 1, 'do_not_inc': array([1, 1, 1, 1, 1, 1]), 'pkt_bin_costs': [121, 259, 355, 452, 114, 292]}\n",
            "{'id': 0, 'vol': 32, 'weight': 161, 'combine': 1, 'do_not_inc': array([1, 1, 1, 1, 1, 1]), 'pkt_bin_costs': [121, 259, 355, 452, 114, 292]}\n",
            "{'id': 0, 'vol': 56, 'weight': 37, 'combine': 1, 'do_not_inc': array([1, 1, 1, 1, 1, 1]), 'pkt_bin_costs': [121, 259, 355, 452, 114, 292]}\n",
            "{'id': 0, 'vol': 116, 'weight': 18, 'combine': 1, 'do_not_inc': array([1, 1, 1, 1, 1, 1]), 'pkt_bin_costs': [121, 259, 355, 452, 114, 292]}\n",
            "{'id': 1, 'vol': 77, 'weight': 174, 'combine': 1, 'do_not_inc': array([1, 1, 1, 1, 1, 1]), 'pkt_bin_costs': [404, 221, 396, 267, 417, 273]}\n",
            "{'id': 2, 'vol': 127, 'weight': 89, 'combine': 1, 'do_not_inc': array([1, 1, 1, 1, 1, 1]), 'pkt_bin_costs': [164, 405, 384, 229, 157, 496]}\n",
            "{'id': 2, 'vol': 5, 'weight': 97, 'combine': 1, 'do_not_inc': array([1, 1, 1, 1, 1, 1]), 'pkt_bin_costs': [164, 405, 384, 229, 157, 496]}\n",
            "{'id': 2, 'vol': 1, 'weight': 111, 'combine': 1, 'do_not_inc': array([1, 1, 1, 1, 1, 1]), 'pkt_bin_costs': [164, 405, 384, 229, 157, 496]}\n",
            "{'id': 2, 'vol': 127, 'weight': 124, 'combine': 1, 'do_not_inc': array([1, 1, 1, 1, 1, 1]), 'pkt_bin_costs': [164, 405, 384, 229, 157, 496]}\n",
            "{'id': 2, 'vol': 197, 'weight': 30, 'combine': 1, 'do_not_inc': array([1, 1, 1, 1, 1, 1]), 'pkt_bin_costs': [164, 405, 384, 229, 157, 496]}\n",
            "{'id': 2, 'vol': 180, 'weight': 141, 'combine': 1, 'do_not_inc': array([1, 1, 1, 1, 1, 1]), 'pkt_bin_costs': [164, 405, 384, 229, 157, 496]}\n",
            "{'id': 2, 'vol': 12, 'weight': 144, 'combine': 1, 'do_not_inc': array([1, 1, 1, 1, 1, 1]), 'pkt_bin_costs': [164, 405, 384, 229, 157, 496]}\n",
            "{'id': 2, 'vol': 136, 'weight': 154, 'combine': 1, 'do_not_inc': array([1, 1, 1, 1, 1, 1]), 'pkt_bin_costs': [164, 405, 384, 229, 157, 496]}\n",
            "{'id': 2, 'vol': 182, 'weight': 65, 'combine': 1, 'do_not_inc': array([1, 1, 1, 1, 1, 1]), 'pkt_bin_costs': [164, 405, 384, 229, 157, 496]}\n",
            "{'id': 2, 'vol': 88, 'weight': 42, 'combine': 1, 'do_not_inc': array([1, 1, 1, 1, 1, 1]), 'pkt_bin_costs': [164, 405, 384, 229, 157, 496]}\n",
            "{'id': 2, 'vol': 174, 'weight': 126, 'combine': 1, 'do_not_inc': array([1, 1, 1, 1, 1, 1]), 'pkt_bin_costs': [164, 405, 384, 229, 157, 496]}\n",
            "{'id': 2, 'vol': 179, 'weight': 137, 'combine': 1, 'do_not_inc': array([1, 1, 1, 1, 1, 1]), 'pkt_bin_costs': [164, 405, 384, 229, 157, 496]}\n",
            "{'id': 2, 'vol': 151, 'weight': 18, 'combine': 1, 'do_not_inc': array([1, 1, 1, 1, 1, 1]), 'pkt_bin_costs': [164, 405, 384, 229, 157, 496]}\n",
            "{'id': 2, 'vol': 134, 'weight': 96, 'combine': 1, 'do_not_inc': array([1, 1, 1, 1, 1, 1]), 'pkt_bin_costs': [164, 405, 384, 229, 157, 496]}\n"
          ],
          "name": "stdout"
        }
      ]
    },
    {
      "cell_type": "code",
      "metadata": {
        "id": "uAW5YCEcfxYo",
        "colab_type": "code",
        "colab": {
          "base_uri": "https://localhost:8080/",
          "height": 1000
        },
        "outputId": "d23db9d3-64ae-469c-f0a2-b7818fb52a0a"
      },
      "source": [
        "input_state"
      ],
      "execution_count": null,
      "outputs": [
        {
          "output_type": "execute_result",
          "data": {
            "text/plain": [
              "array([[[  1,   0,   0,   0,  76, 141,   1, 103, 246, 102, 104, 131,\n",
              "         323],\n",
              "        [  1,   0,   0,   0,  72,  24,   1, 103, 246, 102, 104, 131,\n",
              "         323],\n",
              "        [  0,   0,   0,   0,   0,   0,   0,   0,   0,   0,   0,   0,\n",
              "           0],\n",
              "        [  0,   0,   0,   0,   0,   0,   0,   0,   0,   0,   0,   0,\n",
              "           0],\n",
              "        [  0,   0,   0,   0,   0,   0,   0,   0,   0,   0,   0,   0,\n",
              "           0],\n",
              "        [  0,   0,   0,   0,   0,   0,   0,   0,   0,   0,   0,   0,\n",
              "           0],\n",
              "        [  0,   0,   0,   0,   0,   0,   0,   0,   0,   0,   0,   0,\n",
              "           0],\n",
              "        [  0,   0,   0,   0,   0,   0,   0,   0,   0,   0,   0,   0,\n",
              "           0],\n",
              "        [  0,   0,   0,   0,   0,   0,   0,   0,   0,   0,   0,   0,\n",
              "           0],\n",
              "        [  0,   0,   0,   0,   0,   0,   0,   0,   0,   0,   0,   0,\n",
              "           0],\n",
              "        [  0,   0,   0,   0,   0,   0,   0,   0,   0,   0,   0,   0,\n",
              "           0],\n",
              "        [  0,   0,   0,   0,   0,   0,   0,   0,   0,   0,   0,   0,\n",
              "           0]],\n",
              "\n",
              "       [[  1,   0,   0,   0,  92, 166,   1, 103, 246, 102, 104, 131,\n",
              "         323],\n",
              "        [  1,   0,   0,   0,  47, 123,   1, 103, 246, 102, 104, 131,\n",
              "         323],\n",
              "        [  0,   1,   0,   0, 119, 134,   1, 388, 444, 250, 241, 297,\n",
              "         418],\n",
              "        [  1,   0,   0,   0, 112,  34,   1, 103, 246, 102, 104, 131,\n",
              "         323],\n",
              "        [  1,   0,   0,   0,  88,  16,   1, 103, 246, 102, 104, 131,\n",
              "         323],\n",
              "        [  1,   0,   0,   0, 140,  18,   1, 103, 246, 102, 104, 131,\n",
              "         323],\n",
              "        [  1,   0,   0,   0, 149, 194,   1, 103, 246, 102, 104, 131,\n",
              "         323],\n",
              "        [  1,   0,   0,   0,  76, 141,   1, 103, 246, 102, 104, 131,\n",
              "         323],\n",
              "        [  1,   0,   0,   0,  17, 160,   1, 103, 246, 102, 104, 131,\n",
              "         323],\n",
              "        [  0,   0,   0,   0,   0,   0,   0,   0,   0,   0,   0,   0,\n",
              "           0],\n",
              "        [  0,   0,   0,   0,   0,   0,   0,   0,   0,   0,   0,   0,\n",
              "           0],\n",
              "        [  0,   0,   0,   0,   0,   0,   0,   0,   0,   0,   0,   0,\n",
              "           0]],\n",
              "\n",
              "       [[  1,   0,   0,   0,  80, 138,   1, 103, 246, 102, 104, 131,\n",
              "         323],\n",
              "        [  0,   1,   0,   0,  15,  39,   1, 388, 444, 250, 241, 297,\n",
              "         418],\n",
              "        [  1,   0,   0,   0,  59,  99,   1, 103, 246, 102, 104, 131,\n",
              "         323],\n",
              "        [  0,   0,   0,   0,   0,   0,   0,   0,   0,   0,   0,   0,\n",
              "           0],\n",
              "        [  0,   0,   0,   0,   0,   0,   0,   0,   0,   0,   0,   0,\n",
              "           0],\n",
              "        [  0,   0,   0,   0,   0,   0,   0,   0,   0,   0,   0,   0,\n",
              "           0],\n",
              "        [  0,   0,   0,   0,   0,   0,   0,   0,   0,   0,   0,   0,\n",
              "           0],\n",
              "        [  0,   0,   0,   0,   0,   0,   0,   0,   0,   0,   0,   0,\n",
              "           0],\n",
              "        [  0,   0,   0,   0,   0,   0,   0,   0,   0,   0,   0,   0,\n",
              "           0],\n",
              "        [  0,   0,   0,   0,   0,   0,   0,   0,   0,   0,   0,   0,\n",
              "           0],\n",
              "        [  0,   0,   0,   0,   0,   0,   0,   0,   0,   0,   0,   0,\n",
              "           0],\n",
              "        [  0,   0,   0,   0,   0,   0,   0,   0,   0,   0,   0,   0,\n",
              "           0]],\n",
              "\n",
              "       [[  1,   0,   0,   0,  76, 141,   1, 103, 246, 102, 104, 131,\n",
              "         323],\n",
              "        [  1,   0,   0,   0,  17, 160,   1, 103, 246, 102, 104, 131,\n",
              "         323],\n",
              "        [  1,   0,   0,   0,  47, 123,   1, 103, 246, 102, 104, 131,\n",
              "         323],\n",
              "        [  0,   1,   0,   0, 119, 134,   1, 388, 444, 250, 241, 297,\n",
              "         418],\n",
              "        [  1,   0,   0,   0, 172, 162,   1, 103, 246, 102, 104, 131,\n",
              "         323],\n",
              "        [  1,   0,   0,   0, 140,  18,   1, 103, 246, 102, 104, 131,\n",
              "         323],\n",
              "        [  1,   0,   0,   0, 175, 108,   1, 103, 246, 102, 104, 131,\n",
              "         323],\n",
              "        [  1,   0,   0,   0, 149, 194,   1, 103, 246, 102, 104, 131,\n",
              "         323],\n",
              "        [  1,   0,   0,   0, 112,  34,   1, 103, 246, 102, 104, 131,\n",
              "         323],\n",
              "        [  1,   0,   0,   0,  59,  99,   1, 103, 246, 102, 104, 131,\n",
              "         323],\n",
              "        [  1,   0,   0,   0, 144, 133,   1, 103, 246, 102, 104, 131,\n",
              "         323],\n",
              "        [  0,   0,   0,   0,   0,   0,   0,   0,   0,   0,   0,   0,\n",
              "           0]],\n",
              "\n",
              "       [[  1,   0,   0,   0,  47, 123,   1, 103, 246, 102, 104, 131,\n",
              "         323],\n",
              "        [  1,   0,   0,   0,  59,  99,   1, 103, 246, 102, 104, 131,\n",
              "         323],\n",
              "        [  1,   0,   0,   0, 137,   9,   1, 103, 246, 102, 104, 131,\n",
              "         323],\n",
              "        [  0,   0,   0,   0,   0,   0,   0,   0,   0,   0,   0,   0,\n",
              "           0],\n",
              "        [  0,   0,   0,   0,   0,   0,   0,   0,   0,   0,   0,   0,\n",
              "           0],\n",
              "        [  0,   0,   0,   0,   0,   0,   0,   0,   0,   0,   0,   0,\n",
              "           0],\n",
              "        [  0,   0,   0,   0,   0,   0,   0,   0,   0,   0,   0,   0,\n",
              "           0],\n",
              "        [  0,   0,   0,   0,   0,   0,   0,   0,   0,   0,   0,   0,\n",
              "           0],\n",
              "        [  0,   0,   0,   0,   0,   0,   0,   0,   0,   0,   0,   0,\n",
              "           0],\n",
              "        [  0,   0,   0,   0,   0,   0,   0,   0,   0,   0,   0,   0,\n",
              "           0],\n",
              "        [  0,   0,   0,   0,   0,   0,   0,   0,   0,   0,   0,   0,\n",
              "           0],\n",
              "        [  0,   0,   0,   0,   0,   0,   0,   0,   0,   0,   0,   0,\n",
              "           0]]], dtype=int32)"
            ]
          },
          "metadata": {
            "tags": []
          },
          "execution_count": 20
        }
      ]
    },
    {
      "cell_type": "code",
      "metadata": {
        "id": "NP1hvCwKg6os",
        "colab_type": "code",
        "colab": {}
      },
      "source": [
        "class Agent(object):\n",
        "  \n",
        "  def __init__(self, batch_size, vocab_size, embedding_dim, output_dim):\n",
        "    \n",
        "    #vocab_size, embedding_dim, enc_units, batch_sz \n",
        "    self.batch_sz = batch_size\n",
        "    self.vocab_size = vocab_size\n",
        "    self.embedding_dim = embedding_dim\n",
        "    self.output_dim = output_dim\n",
        "  \n",
        "\n",
        "  def estimator(self):\n",
        "    inp = Input(shape = (1), name = 'input')\n",
        "    dspace = Input(shape = (self.output_dim), name = 'space')\n",
        "    init = Input(shape = (1), name = 'init')\n",
        "    space = Dense(128, activation = 'tanh')(dspace)\n",
        "    f_h_state = Dense(128, activation = 'tanh')(init)\n",
        "    f_c_state = Dense(128, activation = 'tanh')(init)\n",
        "    b_h_state = Dense(128, activation = 'tanh')(init)\n",
        "    b_c_state = Dense(128, activation = 'tanh')(init)\n",
        "    f_state = Dense(128, activation = 'tanh')(init)\n",
        "    b_state = Dense(128, activation = 'tanh')(init)\n",
        "    model = Embedding(self.vocab_size, self.embedding_dim)(inp)\n",
        "    model = Bidirectional(LSTM(128,return_sequences = True, recurrent_initializer='glorot_uniform'))(model, initial_state=[f_h_state, f_c_state, b_h_state, b_c_state])\n",
        "    model = Bidirectional(LSTM(128, recurrent_initializer='glorot_uniform'))(model, initial_state=[f_state, space, b_state, space])\n",
        "    model = Dense(128, activation = 'relu')(model)\n",
        "    model = Dense(self.output_dim, activation = 'relu')(model)\n",
        "    val = Model(inputs = [inp, dspace, init], outputs = model)\n",
        "    return val"
      ],
      "execution_count": null,
      "outputs": []
    },
    {
      "cell_type": "code",
      "metadata": {
        "id": "RO2toFkWhK5K",
        "colab_type": "code",
        "colab": {
          "base_uri": "https://localhost:8080/",
          "height": 279
        },
        "outputId": "0d3696f8-78c6-4375-b4f8-7c07df9dd1be"
      },
      "source": [
        "env.render(None)"
      ],
      "execution_count": null,
      "outputs": [
        {
          "output_type": "display_data",
          "data": {
            "image/png": "[encoded data removed]",
            "text/plain": [
              "<Figure size 432x288 with 1 Axes>"
            ]
          },
          "metadata": {
            "tags": [],
            "needs_background": "light"
          }
        }
      ]
    },
    {
      "cell_type": "code",
      "metadata": {
        "id": "sTv0mJAghO1R",
        "colab_type": "code",
        "colab": {}
      },
      "source": [
        ""
      ],
      "execution_count": null,
      "outputs": []
    }
  ]
}